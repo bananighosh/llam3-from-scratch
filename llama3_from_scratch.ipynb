{
  "nbformat": 4,
  "nbformat_minor": 0,
  "metadata": {
    "colab": {
      "provenance": [],
      "gpuType": "T4",
      "authorship_tag": "ABX9TyOMe2hB1IvxWtSd+SFa6+fs",
      "include_colab_link": true
    },
    "kernelspec": {
      "name": "python3",
      "display_name": "Python 3"
    },
    "language_info": {
      "name": "python"
    },
    "accelerator": "GPU"
  },
  "cells": [
    {
      "cell_type": "markdown",
      "metadata": {
        "id": "view-in-github",
        "colab_type": "text"
      },
      "source": [
        "<a href=\"https://colab.research.google.com/github/bananighosh/llama3-from-scratch/blob/main/llama3_from_scratch.ipynb\" target=\"_parent\"><img src=\"https://colab.research.google.com/assets/colab-badge.svg\" alt=\"Open In Colab\"/></a>"
      ]
    },
    {
      "cell_type": "code",
      "source": [
        "!bash download.sh"
      ],
      "metadata": {
        "colab": {
          "base_uri": "https://localhost:8080/"
        },
        "id": "hLcAwkWAUpqD",
        "outputId": "0482f8ab-7e80-4d1e-84ab-e80181b4b845"
      },
      "execution_count": 5,
      "outputs": [
        {
          "output_type": "stream",
          "name": "stdout",
          "text": [
            "Enter the URL from email: https://download6.llamameta.net/*?Policy=eyJTdGF0ZW1lbnQiOlt7InVuaXF1ZV9oYXNoIjoiZGE1NHIycHhxM2wwZWswdGd3dnBuZ2lkIiwiUmVzb3VyY2UiOiJodHRwczpcL1wvZG93bmxvYWQ2LmxsYW1hbWV0YS5uZXRcLyoiLCJDb25kaXRpb24iOnsiRGF0ZUxlc3NUaGFuIjp7IkFXUzpFcG9jaFRpbWUiOjE3MTY4NzAxNzV9fX1dfQ__&Signature=k3ePhF85Fk12gM92SOGEY6KHSR3p64C1FksFz5FiYrWSw7FGgdgbeRiQUNET3wR-bpXQpZxczG%7EOUkW6hN0oybYFPDVhOuic48NjJmKrwlmwE1Q1eJzsFDatmn%7E80viS%7E4viK0sD0Xc7wPPT1HatC4ovrCQP9wO7qXrJdjB82tsIXKakx%7Eb-bsXQTvTixSMh3jU-kbDpximA%7E91CnRjnkzwhRPclGWx6k8dy7qjikgOdqVDFzl-uSZa85xWpv7KkeIH2GfL4hgEOFj15lpfk5O4FP99lM-Ysda7dfDsTBhXukGHlnTLD0ftHNRD8dHq7FaagzVyiJhlNNhTAurEh3A__&Key-Pair-Id=K15QRJLYKIFSLZ&Download-Request-ID=337416229137869\n",
            "\n",
            "Enter the list of models to download without spaces (8B,8B-instruct,70B,70B-instruct), or press Enter for all: 8B,8B-instruct\n",
            "Downloading LICENSE and Acceptable Usage Policy\n",
            "--2024-05-27 06:37:50--  https://download6.llamameta.net/LICENSE?Policy=eyJTdGF0ZW1lbnQiOlt7InVuaXF1ZV9oYXNoIjoiZGE1NHIycHhxM2wwZWswdGd3dnBuZ2lkIiwiUmVzb3VyY2UiOiJodHRwczpcL1wvZG93bmxvYWQ2LmxsYW1hbWV0YS5uZXRcLyoiLCJDb25kaXRpb24iOnsiRGF0ZUxlc3NUaGFuIjp7IkFXUzpFcG9jaFRpbWUiOjE3MTY4NzAxNzV9fX1dfQ__&Signature=k3ePhF85Fk12gM92SOGEY6KHSR3p64C1FksFz5FiYrWSw7FGgdgbeRiQUNET3wR-bpXQpZxczG%7EOUkW6hN0oybYFPDVhOuic48NjJmKrwlmwE1Q1eJzsFDatmn%7E80viS%7E4viK0sD0Xc7wPPT1HatC4ovrCQP9wO7qXrJdjB82tsIXKakx%7Eb-bsXQTvTixSMh3jU-kbDpximA%7E91CnRjnkzwhRPclGWx6k8dy7qjikgOdqVDFzl-uSZa85xWpv7KkeIH2GfL4hgEOFj15lpfk5O4FP99lM-Ysda7dfDsTBhXukGHlnTLD0ftHNRD8dHq7FaagzVyiJhlNNhTAurEh3A__&Key-Pair-Id=K15QRJLYKIFSLZ&Download-Request-ID=337416229137869\n",
            "Resolving download6.llamameta.net (download6.llamameta.net)... 3.163.158.54, 3.163.158.84, 3.163.158.97, ...\n",
            "Connecting to download6.llamameta.net (download6.llamameta.net)|3.163.158.54|:443... connected.\n",
            "HTTP request sent, awaiting response... 200 OK\n",
            "Length: 7744 (7.6K) [binary/octet-stream]\n",
            "Saving to: ‘./LICENSE’\n",
            "\n",
            "./LICENSE           100%[===================>]   7.56K  --.-KB/s    in 0.001s  \n",
            "\n",
            "2024-05-27 06:37:50 (10.4 MB/s) - ‘./LICENSE’ saved [7744/7744]\n",
            "\n",
            "--2024-05-27 06:37:50--  https://download6.llamameta.net/USE_POLICY?Policy=eyJTdGF0ZW1lbnQiOlt7InVuaXF1ZV9oYXNoIjoiZGE1NHIycHhxM2wwZWswdGd3dnBuZ2lkIiwiUmVzb3VyY2UiOiJodHRwczpcL1wvZG93bmxvYWQ2LmxsYW1hbWV0YS5uZXRcLyoiLCJDb25kaXRpb24iOnsiRGF0ZUxlc3NUaGFuIjp7IkFXUzpFcG9jaFRpbWUiOjE3MTY4NzAxNzV9fX1dfQ__&Signature=k3ePhF85Fk12gM92SOGEY6KHSR3p64C1FksFz5FiYrWSw7FGgdgbeRiQUNET3wR-bpXQpZxczG%7EOUkW6hN0oybYFPDVhOuic48NjJmKrwlmwE1Q1eJzsFDatmn%7E80viS%7E4viK0sD0Xc7wPPT1HatC4ovrCQP9wO7qXrJdjB82tsIXKakx%7Eb-bsXQTvTixSMh3jU-kbDpximA%7E91CnRjnkzwhRPclGWx6k8dy7qjikgOdqVDFzl-uSZa85xWpv7KkeIH2GfL4hgEOFj15lpfk5O4FP99lM-Ysda7dfDsTBhXukGHlnTLD0ftHNRD8dHq7FaagzVyiJhlNNhTAurEh3A__&Key-Pair-Id=K15QRJLYKIFSLZ&Download-Request-ID=337416229137869\n",
            "Resolving download6.llamameta.net (download6.llamameta.net)... 3.163.158.54, 3.163.158.84, 3.163.158.97, ...\n",
            "Connecting to download6.llamameta.net (download6.llamameta.net)|3.163.158.54|:443... connected.\n",
            "HTTP request sent, awaiting response... 200 OK\n",
            "Length: 8800 (8.6K) [binary/octet-stream]\n",
            "Saving to: ‘./USE_POLICY’\n",
            "\n",
            "./USE_POLICY        100%[===================>]   8.59K  --.-KB/s    in 0s      \n",
            "\n",
            "2024-05-27 06:37:50 (120 MB/s) - ‘./USE_POLICY’ saved [8800/8800]\n",
            "\n",
            "Downloading 8b_pre_trained\n",
            "--2024-05-27 06:37:50--  https://download6.llamameta.net/8b_pre_trained/consolidated.00.pth?Policy=eyJTdGF0ZW1lbnQiOlt7InVuaXF1ZV9oYXNoIjoiZGE1NHIycHhxM2wwZWswdGd3dnBuZ2lkIiwiUmVzb3VyY2UiOiJodHRwczpcL1wvZG93bmxvYWQ2LmxsYW1hbWV0YS5uZXRcLyoiLCJDb25kaXRpb24iOnsiRGF0ZUxlc3NUaGFuIjp7IkFXUzpFcG9jaFRpbWUiOjE3MTY4NzAxNzV9fX1dfQ__&Signature=k3ePhF85Fk12gM92SOGEY6KHSR3p64C1FksFz5FiYrWSw7FGgdgbeRiQUNET3wR-bpXQpZxczG%7EOUkW6hN0oybYFPDVhOuic48NjJmKrwlmwE1Q1eJzsFDatmn%7E80viS%7E4viK0sD0Xc7wPPT1HatC4ovrCQP9wO7qXrJdjB82tsIXKakx%7Eb-bsXQTvTixSMh3jU-kbDpximA%7E91CnRjnkzwhRPclGWx6k8dy7qjikgOdqVDFzl-uSZa85xWpv7KkeIH2GfL4hgEOFj15lpfk5O4FP99lM-Ysda7dfDsTBhXukGHlnTLD0ftHNRD8dHq7FaagzVyiJhlNNhTAurEh3A__&Key-Pair-Id=K15QRJLYKIFSLZ&Download-Request-ID=337416229137869\n",
            "Resolving download6.llamameta.net (download6.llamameta.net)... 3.163.158.54, 3.163.158.84, 3.163.158.97, ...\n",
            "Connecting to download6.llamameta.net (download6.llamameta.net)|3.163.158.54|:443... connected.\n",
            "HTTP request sent, awaiting response... 200 OK\n",
            "Length: 16060617592 (15G) [binary/octet-stream]\n",
            "Saving to: ‘./Meta-Llama-3-8B/consolidated.00.pth’\n",
            "\n",
            "./Meta-Llama-3-8B/c 100%[===================>]  14.96G   207MB/s    in 86s     \n",
            "\n",
            "2024-05-27 06:39:16 (178 MB/s) - ‘./Meta-Llama-3-8B/consolidated.00.pth’ saved [16060617592/16060617592]\n",
            "\n",
            "--2024-05-27 06:39:16--  https://download6.llamameta.net/8b_pre_trained/params.json?Policy=eyJTdGF0ZW1lbnQiOlt7InVuaXF1ZV9oYXNoIjoiZGE1NHIycHhxM2wwZWswdGd3dnBuZ2lkIiwiUmVzb3VyY2UiOiJodHRwczpcL1wvZG93bmxvYWQ2LmxsYW1hbWV0YS5uZXRcLyoiLCJDb25kaXRpb24iOnsiRGF0ZUxlc3NUaGFuIjp7IkFXUzpFcG9jaFRpbWUiOjE3MTY4NzAxNzV9fX1dfQ__&Signature=k3ePhF85Fk12gM92SOGEY6KHSR3p64C1FksFz5FiYrWSw7FGgdgbeRiQUNET3wR-bpXQpZxczG%7EOUkW6hN0oybYFPDVhOuic48NjJmKrwlmwE1Q1eJzsFDatmn%7E80viS%7E4viK0sD0Xc7wPPT1HatC4ovrCQP9wO7qXrJdjB82tsIXKakx%7Eb-bsXQTvTixSMh3jU-kbDpximA%7E91CnRjnkzwhRPclGWx6k8dy7qjikgOdqVDFzl-uSZa85xWpv7KkeIH2GfL4hgEOFj15lpfk5O4FP99lM-Ysda7dfDsTBhXukGHlnTLD0ftHNRD8dHq7FaagzVyiJhlNNhTAurEh3A__&Key-Pair-Id=K15QRJLYKIFSLZ&Download-Request-ID=337416229137869\n",
            "Resolving download6.llamameta.net (download6.llamameta.net)... 3.163.158.84, 3.163.158.22, 3.163.158.54, ...\n",
            "Connecting to download6.llamameta.net (download6.llamameta.net)|3.163.158.84|:443... connected.\n",
            "HTTP request sent, awaiting response... 200 OK\n",
            "Length: 211 [application/json]\n",
            "Saving to: ‘./Meta-Llama-3-8B/params.json’\n",
            "\n",
            "./Meta-Llama-3-8B/p 100%[===================>]     211  --.-KB/s    in 0s      \n",
            "\n",
            "2024-05-27 06:39:16 (115 MB/s) - ‘./Meta-Llama-3-8B/params.json’ saved [211/211]\n",
            "\n",
            "--2024-05-27 06:39:16--  https://download6.llamameta.net/8b_pre_trained/tokenizer.model?Policy=eyJTdGF0ZW1lbnQiOlt7InVuaXF1ZV9oYXNoIjoiZGE1NHIycHhxM2wwZWswdGd3dnBuZ2lkIiwiUmVzb3VyY2UiOiJodHRwczpcL1wvZG93bmxvYWQ2LmxsYW1hbWV0YS5uZXRcLyoiLCJDb25kaXRpb24iOnsiRGF0ZUxlc3NUaGFuIjp7IkFXUzpFcG9jaFRpbWUiOjE3MTY4NzAxNzV9fX1dfQ__&Signature=k3ePhF85Fk12gM92SOGEY6KHSR3p64C1FksFz5FiYrWSw7FGgdgbeRiQUNET3wR-bpXQpZxczG%7EOUkW6hN0oybYFPDVhOuic48NjJmKrwlmwE1Q1eJzsFDatmn%7E80viS%7E4viK0sD0Xc7wPPT1HatC4ovrCQP9wO7qXrJdjB82tsIXKakx%7Eb-bsXQTvTixSMh3jU-kbDpximA%7E91CnRjnkzwhRPclGWx6k8dy7qjikgOdqVDFzl-uSZa85xWpv7KkeIH2GfL4hgEOFj15lpfk5O4FP99lM-Ysda7dfDsTBhXukGHlnTLD0ftHNRD8dHq7FaagzVyiJhlNNhTAurEh3A__&Key-Pair-Id=K15QRJLYKIFSLZ&Download-Request-ID=337416229137869\n",
            "Resolving download6.llamameta.net (download6.llamameta.net)... 3.163.158.84, 3.163.158.22, 3.163.158.54, ...\n",
            "Connecting to download6.llamameta.net (download6.llamameta.net)|3.163.158.84|:443... connected.\n",
            "HTTP request sent, awaiting response... 200 OK\n",
            "Length: 2183982 (2.1M) [binary/octet-stream]\n",
            "Saving to: ‘./Meta-Llama-3-8B/tokenizer.model’\n",
            "\n",
            "./Meta-Llama-3-8B/t 100%[===================>]   2.08M  --.-KB/s    in 0.06s   \n",
            "\n",
            "2024-05-27 06:39:17 (33.9 MB/s) - ‘./Meta-Llama-3-8B/tokenizer.model’ saved [2183982/2183982]\n",
            "\n",
            "--2024-05-27 06:39:17--  https://download6.llamameta.net/8b_pre_trained/checklist.chk?Policy=eyJTdGF0ZW1lbnQiOlt7InVuaXF1ZV9oYXNoIjoiZGE1NHIycHhxM2wwZWswdGd3dnBuZ2lkIiwiUmVzb3VyY2UiOiJodHRwczpcL1wvZG93bmxvYWQ2LmxsYW1hbWV0YS5uZXRcLyoiLCJDb25kaXRpb24iOnsiRGF0ZUxlc3NUaGFuIjp7IkFXUzpFcG9jaFRpbWUiOjE3MTY4NzAxNzV9fX1dfQ__&Signature=k3ePhF85Fk12gM92SOGEY6KHSR3p64C1FksFz5FiYrWSw7FGgdgbeRiQUNET3wR-bpXQpZxczG%7EOUkW6hN0oybYFPDVhOuic48NjJmKrwlmwE1Q1eJzsFDatmn%7E80viS%7E4viK0sD0Xc7wPPT1HatC4ovrCQP9wO7qXrJdjB82tsIXKakx%7Eb-bsXQTvTixSMh3jU-kbDpximA%7E91CnRjnkzwhRPclGWx6k8dy7qjikgOdqVDFzl-uSZa85xWpv7KkeIH2GfL4hgEOFj15lpfk5O4FP99lM-Ysda7dfDsTBhXukGHlnTLD0ftHNRD8dHq7FaagzVyiJhlNNhTAurEh3A__&Key-Pair-Id=K15QRJLYKIFSLZ&Download-Request-ID=337416229137869\n",
            "Resolving download6.llamameta.net (download6.llamameta.net)... 3.163.158.84, 3.163.158.22, 3.163.158.54, ...\n",
            "Connecting to download6.llamameta.net (download6.llamameta.net)|3.163.158.84|:443... connected.\n",
            "HTTP request sent, awaiting response... 200 OK\n",
            "Length: 150 [binary/octet-stream]\n",
            "Saving to: ‘./Meta-Llama-3-8B/checklist.chk’\n",
            "\n",
            "./Meta-Llama-3-8B/c 100%[===================>]     150  --.-KB/s    in 0s      \n",
            "\n",
            "2024-05-27 06:39:17 (11.6 MB/s) - ‘./Meta-Llama-3-8B/checklist.chk’ saved [150/150]\n",
            "\n",
            "Checking checksums\n",
            "consolidated.00.pth: OK\n",
            "params.json: OK\n",
            "tokenizer.model: OK\n",
            "Downloading 8b_instruction_tuned\n",
            "--2024-05-27 06:40:23--  https://download6.llamameta.net/8b_instruction_tuned/consolidated.00.pth?Policy=eyJTdGF0ZW1lbnQiOlt7InVuaXF1ZV9oYXNoIjoiZGE1NHIycHhxM2wwZWswdGd3dnBuZ2lkIiwiUmVzb3VyY2UiOiJodHRwczpcL1wvZG93bmxvYWQ2LmxsYW1hbWV0YS5uZXRcLyoiLCJDb25kaXRpb24iOnsiRGF0ZUxlc3NUaGFuIjp7IkFXUzpFcG9jaFRpbWUiOjE3MTY4NzAxNzV9fX1dfQ__&Signature=k3ePhF85Fk12gM92SOGEY6KHSR3p64C1FksFz5FiYrWSw7FGgdgbeRiQUNET3wR-bpXQpZxczG%7EOUkW6hN0oybYFPDVhOuic48NjJmKrwlmwE1Q1eJzsFDatmn%7E80viS%7E4viK0sD0Xc7wPPT1HatC4ovrCQP9wO7qXrJdjB82tsIXKakx%7Eb-bsXQTvTixSMh3jU-kbDpximA%7E91CnRjnkzwhRPclGWx6k8dy7qjikgOdqVDFzl-uSZa85xWpv7KkeIH2GfL4hgEOFj15lpfk5O4FP99lM-Ysda7dfDsTBhXukGHlnTLD0ftHNRD8dHq7FaagzVyiJhlNNhTAurEh3A__&Key-Pair-Id=K15QRJLYKIFSLZ&Download-Request-ID=337416229137869\n",
            "Resolving download6.llamameta.net (download6.llamameta.net)... 3.163.158.22, 3.163.158.84, 3.163.158.97, ...\n",
            "Connecting to download6.llamameta.net (download6.llamameta.net)|3.163.158.22|:443... connected.\n",
            "HTTP request sent, awaiting response... 200 OK\n",
            "Length: 16060617592 (15G) [binary/octet-stream]\n",
            "Saving to: ‘./Meta-Llama-3-8B-Instruct/consolidated.00.pth’\n",
            "\n",
            "./Meta-Llama-3-8B-I 100%[===================>]  14.96G   169MB/s    in 89s     \n",
            "\n",
            "2024-05-27 06:41:52 (172 MB/s) - ‘./Meta-Llama-3-8B-Instruct/consolidated.00.pth’ saved [16060617592/16060617592]\n",
            "\n",
            "--2024-05-27 06:41:53--  https://download6.llamameta.net/8b_instruction_tuned/params.json?Policy=eyJTdGF0ZW1lbnQiOlt7InVuaXF1ZV9oYXNoIjoiZGE1NHIycHhxM2wwZWswdGd3dnBuZ2lkIiwiUmVzb3VyY2UiOiJodHRwczpcL1wvZG93bmxvYWQ2LmxsYW1hbWV0YS5uZXRcLyoiLCJDb25kaXRpb24iOnsiRGF0ZUxlc3NUaGFuIjp7IkFXUzpFcG9jaFRpbWUiOjE3MTY4NzAxNzV9fX1dfQ__&Signature=k3ePhF85Fk12gM92SOGEY6KHSR3p64C1FksFz5FiYrWSw7FGgdgbeRiQUNET3wR-bpXQpZxczG%7EOUkW6hN0oybYFPDVhOuic48NjJmKrwlmwE1Q1eJzsFDatmn%7E80viS%7E4viK0sD0Xc7wPPT1HatC4ovrCQP9wO7qXrJdjB82tsIXKakx%7Eb-bsXQTvTixSMh3jU-kbDpximA%7E91CnRjnkzwhRPclGWx6k8dy7qjikgOdqVDFzl-uSZa85xWpv7KkeIH2GfL4hgEOFj15lpfk5O4FP99lM-Ysda7dfDsTBhXukGHlnTLD0ftHNRD8dHq7FaagzVyiJhlNNhTAurEh3A__&Key-Pair-Id=K15QRJLYKIFSLZ&Download-Request-ID=337416229137869\n",
            "Resolving download6.llamameta.net (download6.llamameta.net)... 3.163.158.22, 3.163.158.97, 3.163.158.54, ...\n",
            "Connecting to download6.llamameta.net (download6.llamameta.net)|3.163.158.22|:443... connected.\n",
            "HTTP request sent, awaiting response... 200 OK\n",
            "Length: 211 [application/json]\n",
            "Saving to: ‘./Meta-Llama-3-8B-Instruct/params.json’\n",
            "\n",
            "./Meta-Llama-3-8B-I 100%[===================>]     211  --.-KB/s    in 0s      \n",
            "\n",
            "2024-05-27 06:41:53 (477 KB/s) - ‘./Meta-Llama-3-8B-Instruct/params.json’ saved [211/211]\n",
            "\n",
            "--2024-05-27 06:41:53--  https://download6.llamameta.net/8b_instruction_tuned/tokenizer.model?Policy=eyJTdGF0ZW1lbnQiOlt7InVuaXF1ZV9oYXNoIjoiZGE1NHIycHhxM2wwZWswdGd3dnBuZ2lkIiwiUmVzb3VyY2UiOiJodHRwczpcL1wvZG93bmxvYWQ2LmxsYW1hbWV0YS5uZXRcLyoiLCJDb25kaXRpb24iOnsiRGF0ZUxlc3NUaGFuIjp7IkFXUzpFcG9jaFRpbWUiOjE3MTY4NzAxNzV9fX1dfQ__&Signature=k3ePhF85Fk12gM92SOGEY6KHSR3p64C1FksFz5FiYrWSw7FGgdgbeRiQUNET3wR-bpXQpZxczG%7EOUkW6hN0oybYFPDVhOuic48NjJmKrwlmwE1Q1eJzsFDatmn%7E80viS%7E4viK0sD0Xc7wPPT1HatC4ovrCQP9wO7qXrJdjB82tsIXKakx%7Eb-bsXQTvTixSMh3jU-kbDpximA%7E91CnRjnkzwhRPclGWx6k8dy7qjikgOdqVDFzl-uSZa85xWpv7KkeIH2GfL4hgEOFj15lpfk5O4FP99lM-Ysda7dfDsTBhXukGHlnTLD0ftHNRD8dHq7FaagzVyiJhlNNhTAurEh3A__&Key-Pair-Id=K15QRJLYKIFSLZ&Download-Request-ID=337416229137869\n",
            "Resolving download6.llamameta.net (download6.llamameta.net)... 3.163.158.22, 3.163.158.97, 3.163.158.54, ...\n",
            "Connecting to download6.llamameta.net (download6.llamameta.net)|3.163.158.22|:443... connected.\n",
            "HTTP request sent, awaiting response... 200 OK\n",
            "Length: 2183982 (2.1M) [binary/octet-stream]\n",
            "Saving to: ‘./Meta-Llama-3-8B-Instruct/tokenizer.model’\n",
            "\n",
            "./Meta-Llama-3-8B-I 100%[===================>]   2.08M  --.-KB/s    in 0.04s   \n",
            "\n",
            "2024-05-27 06:41:53 (48.7 MB/s) - ‘./Meta-Llama-3-8B-Instruct/tokenizer.model’ saved [2183982/2183982]\n",
            "\n",
            "--2024-05-27 06:41:53--  https://download6.llamameta.net/8b_instruction_tuned/checklist.chk?Policy=eyJTdGF0ZW1lbnQiOlt7InVuaXF1ZV9oYXNoIjoiZGE1NHIycHhxM2wwZWswdGd3dnBuZ2lkIiwiUmVzb3VyY2UiOiJodHRwczpcL1wvZG93bmxvYWQ2LmxsYW1hbWV0YS5uZXRcLyoiLCJDb25kaXRpb24iOnsiRGF0ZUxlc3NUaGFuIjp7IkFXUzpFcG9jaFRpbWUiOjE3MTY4NzAxNzV9fX1dfQ__&Signature=k3ePhF85Fk12gM92SOGEY6KHSR3p64C1FksFz5FiYrWSw7FGgdgbeRiQUNET3wR-bpXQpZxczG%7EOUkW6hN0oybYFPDVhOuic48NjJmKrwlmwE1Q1eJzsFDatmn%7E80viS%7E4viK0sD0Xc7wPPT1HatC4ovrCQP9wO7qXrJdjB82tsIXKakx%7Eb-bsXQTvTixSMh3jU-kbDpximA%7E91CnRjnkzwhRPclGWx6k8dy7qjikgOdqVDFzl-uSZa85xWpv7KkeIH2GfL4hgEOFj15lpfk5O4FP99lM-Ysda7dfDsTBhXukGHlnTLD0ftHNRD8dHq7FaagzVyiJhlNNhTAurEh3A__&Key-Pair-Id=K15QRJLYKIFSLZ&Download-Request-ID=337416229137869\n",
            "Resolving download6.llamameta.net (download6.llamameta.net)... 3.163.158.22, 3.163.158.97, 3.163.158.54, ...\n",
            "Connecting to download6.llamameta.net (download6.llamameta.net)|3.163.158.22|:443... connected.\n",
            "HTTP request sent, awaiting response... 200 OK\n",
            "Length: 150 [binary/octet-stream]\n",
            "Saving to: ‘./Meta-Llama-3-8B-Instruct/checklist.chk’\n",
            "\n",
            "./Meta-Llama-3-8B-I 100%[===================>]     150  --.-KB/s    in 0s      \n",
            "\n",
            "2024-05-27 06:41:53 (544 KB/s) - ‘./Meta-Llama-3-8B-Instruct/checklist.chk’ saved [150/150]\n",
            "\n",
            "Checking checksums\n",
            "consolidated.00.pth: OK\n",
            "params.json: OK\n",
            "tokenizer.model: OK\n"
          ]
        }
      ]
    },
    {
      "cell_type": "code",
      "source": [
        "# !huggingface-cli download meta-llama/Meta-Llama-3-8B-Instruct --include \"original/*\" --local-dir meta-llama/Meta-Llama-3-8B-Instruct"
      ],
      "metadata": {
        "id": "4rHv4mezSGUy"
      },
      "execution_count": 23,
      "outputs": []
    },
    {
      "cell_type": "code",
      "source": [
        "# import transformers\n",
        "# import torch\n",
        "\n",
        "# model_id = \"meta-llama/Meta-Llama-3-8B\"\n",
        "\n",
        "# pipeline = transformers.pipeline(\n",
        "#   \"text-generation\",\n",
        "#   model=\"meta-llama/Meta-Llama-3-8B\",\n",
        "#   model_kwargs={\"torch_dtype\": torch.bfloat16},\n",
        "#   device=\"cuda\",\n",
        "# )"
      ],
      "metadata": {
        "id": "VjJ4AiaRR4lU"
      },
      "execution_count": 24,
      "outputs": []
    },
    {
      "cell_type": "markdown",
      "source": [
        "# Tokenizer"
      ],
      "metadata": {
        "id": "Gn1ep3M4Ovnw"
      }
    },
    {
      "cell_type": "code",
      "source": [
        "!pip install tiktoken"
      ],
      "metadata": {
        "colab": {
          "base_uri": "https://localhost:8080/"
        },
        "id": "IZ0egguVN5m3",
        "outputId": "fe35996b-5244-4b0b-8d2c-12fca4178cb0"
      },
      "execution_count": 2,
      "outputs": [
        {
          "output_type": "stream",
          "name": "stdout",
          "text": [
            "Collecting tiktoken\n",
            "  Downloading tiktoken-0.7.0-cp310-cp310-manylinux_2_17_x86_64.manylinux2014_x86_64.whl (1.1 MB)\n",
            "\u001b[2K     \u001b[90m━━━━━━━━━━━━━━━━━━━━━━━━━━━━━━━━━━━━━━━━\u001b[0m \u001b[32m1.1/1.1 MB\u001b[0m \u001b[31m7.5 MB/s\u001b[0m eta \u001b[36m0:00:00\u001b[0m\n",
            "\u001b[?25hRequirement already satisfied: regex>=2022.1.18 in /usr/local/lib/python3.10/dist-packages (from tiktoken) (2023.12.25)\n",
            "Requirement already satisfied: requests>=2.26.0 in /usr/local/lib/python3.10/dist-packages (from tiktoken) (2.31.0)\n",
            "Requirement already satisfied: charset-normalizer<4,>=2 in /usr/local/lib/python3.10/dist-packages (from requests>=2.26.0->tiktoken) (3.3.2)\n",
            "Requirement already satisfied: idna<4,>=2.5 in /usr/local/lib/python3.10/dist-packages (from requests>=2.26.0->tiktoken) (3.7)\n",
            "Requirement already satisfied: urllib3<3,>=1.21.1 in /usr/local/lib/python3.10/dist-packages (from requests>=2.26.0->tiktoken) (2.0.7)\n",
            "Requirement already satisfied: certifi>=2017.4.17 in /usr/local/lib/python3.10/dist-packages (from requests>=2.26.0->tiktoken) (2024.2.2)\n",
            "Installing collected packages: tiktoken\n",
            "Successfully installed tiktoken-0.7.0\n"
          ]
        }
      ]
    },
    {
      "cell_type": "code",
      "source": [
        "!pip install blobfile"
      ],
      "metadata": {
        "colab": {
          "base_uri": "https://localhost:8080/"
        },
        "id": "FMcWOIl7PAT6",
        "outputId": "6b0f83b0-f9f2-4134-ee1e-28cb85e35c07"
      },
      "execution_count": 3,
      "outputs": [
        {
          "output_type": "stream",
          "name": "stdout",
          "text": [
            "Collecting blobfile\n",
            "  Downloading blobfile-2.1.1-py3-none-any.whl (73 kB)\n",
            "\u001b[2K     \u001b[90m━━━━━━━━━━━━━━━━━━━━━━━━━━━━━━━━━━━━━━━━\u001b[0m \u001b[32m73.7/73.7 kB\u001b[0m \u001b[31m3.1 MB/s\u001b[0m eta \u001b[36m0:00:00\u001b[0m\n",
            "\u001b[?25hCollecting pycryptodomex~=3.8 (from blobfile)\n",
            "  Downloading pycryptodomex-3.20.0-cp35-abi3-manylinux_2_17_x86_64.manylinux2014_x86_64.whl (2.1 MB)\n",
            "\u001b[2K     \u001b[90m━━━━━━━━━━━━━━━━━━━━━━━━━━━━━━━━━━━━━━━━\u001b[0m \u001b[32m2.1/2.1 MB\u001b[0m \u001b[31m14.1 MB/s\u001b[0m eta \u001b[36m0:00:00\u001b[0m\n",
            "\u001b[?25hRequirement already satisfied: urllib3<3,>=1.25.3 in /usr/local/lib/python3.10/dist-packages (from blobfile) (2.0.7)\n",
            "Requirement already satisfied: lxml~=4.9 in /usr/local/lib/python3.10/dist-packages (from blobfile) (4.9.4)\n",
            "Requirement already satisfied: filelock~=3.0 in /usr/local/lib/python3.10/dist-packages (from blobfile) (3.14.0)\n",
            "Installing collected packages: pycryptodomex, blobfile\n",
            "Successfully installed blobfile-2.1.1 pycryptodomex-3.20.0\n"
          ]
        }
      ]
    },
    {
      "cell_type": "code",
      "execution_count": 4,
      "metadata": {
        "id": "MtQBfMc82Gu8"
      },
      "outputs": [],
      "source": [
        "from pathlib import Path\n",
        "import tiktoken\n",
        "from tiktoken.load import load_tiktoken_bpe\n",
        "import torch\n",
        "import json\n",
        "import matplotlib.pyplot as plt"
      ]
    },
    {
      "cell_type": "code",
      "source": [
        "tokenizer_path = \"Meta-Llama-3-8B-Instruct/tokenizer.model\"\n",
        "\n",
        "special_tokens = [\n",
        "            \"<|begin_of_text|>\",\n",
        "            \"<|end_of_text|>\",\n",
        "            \"<|reserved_special_token_0|>\",\n",
        "            \"<|reserved_special_token_1|>\",\n",
        "            \"<|reserved_special_token_2|>\",\n",
        "            \"<|reserved_special_token_3|>\",\n",
        "            \"<|start_header_id|>\",\n",
        "            \"<|end_header_id|>\",\n",
        "            \"<|reserved_special_token_4|>\",\n",
        "            \"<|eot_id|>\",  # end of turn\n",
        "        ] + [f\"<|reserved_special_token_{i}|>\" for i in range(5, 256 - 5)]\n",
        "\n",
        "mergeable_ranks = load_tiktoken_bpe(tokenizer_path)\n",
        "\n",
        "tokenizer = tiktoken.Encoding(\n",
        "    name=Path(tokenizer_path).name,\n",
        "    pat_str=r\"(?i:'s|'t|'re|'ve|'m|'ll|'d)|[^\\r\\n\\p{L}\\p{N}]?\\p{L}+|\\p{N}{1,3}| ?[^\\s\\p{L}\\p{N}]+[\\r\\n]*|\\s*[\\r\\n]+|\\s+(?!\\S)|\\s+\",\n",
        "    mergeable_ranks=mergeable_ranks,\n",
        "    special_tokens={token: len(mergeable_ranks) + i for i, token in enumerate(special_tokens)},\n",
        ")\n",
        "\n",
        "tokenizer.decode(tokenizer.encode(\"Hello Banani !\"))"
      ],
      "metadata": {
        "colab": {
          "base_uri": "https://localhost:8080/",
          "height": 36
        },
        "id": "ufJkE_j-NQon",
        "outputId": "3ec797b2-7ba2-493a-8306-57c345b94803"
      },
      "execution_count": 8,
      "outputs": [
        {
          "output_type": "execute_result",
          "data": {
            "text/plain": [
              "'Hello Banani !'"
            ],
            "application/vnd.google.colaboratory.intrinsic+json": {
              "type": "string"
            }
          },
          "metadata": {},
          "execution_count": 8
        }
      ]
    },
    {
      "cell_type": "markdown",
      "source": [
        "# analysing the model"
      ],
      "metadata": {
        "id": "fwOjM1uT2QvP"
      }
    },
    {
      "cell_type": "code",
      "source": [
        "model = torch.load(\"Meta-Llama-3-8B-Instruct/consolidated.00.pth\")"
      ],
      "metadata": {
        "id": "mIXK3iiBO1LC"
      },
      "execution_count": null,
      "outputs": []
    },
    {
      "cell_type": "code",
      "source": [
        "print(json.dumps(list(model.keys())[:20], indent=4))"
      ],
      "metadata": {
        "id": "Frf2eLX0QCb1"
      },
      "execution_count": null,
      "outputs": []
    },
    {
      "cell_type": "code",
      "source": [
        "with open(\"Meta-Llama-3-8B-Instruct/params.json\", \"r\") as f:\n",
        "    config = json.load(f)\n",
        "config"
      ],
      "metadata": {
        "colab": {
          "base_uri": "https://localhost:8080/"
        },
        "id": "PRoM7KmzaVFC",
        "outputId": "0a1dbdaf-dabc-4b84-d910-26ab97fa8cb5"
      },
      "execution_count": 9,
      "outputs": [
        {
          "output_type": "execute_result",
          "data": {
            "text/plain": [
              "{'dim': 4096,\n",
              " 'n_layers': 32,\n",
              " 'n_heads': 32,\n",
              " 'n_kv_heads': 8,\n",
              " 'vocab_size': 128256,\n",
              " 'multiple_of': 1024,\n",
              " 'ffn_dim_multiplier': 1.3,\n",
              " 'norm_eps': 1e-05,\n",
              " 'rope_theta': 500000.0}"
            ]
          },
          "metadata": {},
          "execution_count": 9
        }
      ]
    },
    {
      "cell_type": "code",
      "source": [
        "dim = config[\"dim\"]\n",
        "n_layers = config[\"n_layers\"]\n",
        "n_heads = config[\"n_heads\"]\n",
        "n_kv_heads = config[\"n_kv_heads\"]\n",
        "vocab_size = config[\"vocab_size\"]\n",
        "multiple_of = config[\"multiple_of\"]\n",
        "ffn_dim_multiplier = config[\"ffn_dim_multiplier\"]\n",
        "norm_eps = config[\"norm_eps\"]\n",
        "rope_theta = torch.tensor(config[\"rope_theta\"])"
      ],
      "metadata": {
        "id": "dZdNUsau2oAF"
      },
      "execution_count": 18,
      "outputs": []
    },
    {
      "cell_type": "markdown",
      "source": [
        "# text to tokens"
      ],
      "metadata": {
        "id": "sI51Tw5k2zuv"
      }
    },
    {
      "cell_type": "code",
      "source": [
        "prompt = \"the answer to the ultimate question of life, the universe, and everything is \"\n",
        "tokens = [128000] + tokenizer.encode(prompt)\n",
        "print(tokens)"
      ],
      "metadata": {
        "colab": {
          "base_uri": "https://localhost:8080/"
        },
        "id": "uyOx--plzhpX",
        "outputId": "f3df0ab5-a408-426c-bfdf-692f09f59b26"
      },
      "execution_count": 13,
      "outputs": [
        {
          "output_type": "stream",
          "name": "stdout",
          "text": [
            "[128000, 1820, 4320, 311, 279, 17139, 3488, 315, 2324, 11, 279, 15861, 11, 323, 4395, 374, 220]\n"
          ]
        }
      ]
    },
    {
      "cell_type": "code",
      "source": [
        "tokens = torch.tensor(tokens)\n",
        "prompt_split_as_tokens = [tokenizer.decode([token.item()]) for token in tokens]\n",
        "for token in prompt_split_as_tokens:\n",
        "  print(f\"'{token}',\")\n",
        "# print(prompt_split_as_tokens)"
      ],
      "metadata": {
        "colab": {
          "base_uri": "https://localhost:8080/"
        },
        "id": "4pXeDRhp1w2z",
        "outputId": "a0c3ef60-c1e7-44df-b792-c6ba4c9247f5"
      },
      "execution_count": 17,
      "outputs": [
        {
          "output_type": "stream",
          "name": "stdout",
          "text": [
            "'<|begin_of_text|>',\n",
            "'the',\n",
            "' answer',\n",
            "' to',\n",
            "' the',\n",
            "' ultimate',\n",
            "' question',\n",
            "' of',\n",
            "' life',\n",
            "',',\n",
            "' the',\n",
            "' universe',\n",
            "',',\n",
            "' and',\n",
            "' everything',\n",
            "' is',\n",
            "' ',\n"
          ]
        },
        {
          "output_type": "stream",
          "name": "stderr",
          "text": [
            "<ipython-input-17-d7f19a8679ad>:1: UserWarning: To copy construct from a tensor, it is recommended to use sourceTensor.clone().detach() or sourceTensor.clone().detach().requires_grad_(True), rather than torch.tensor(sourceTensor).\n",
            "  tokens = torch.tensor(tokens)\n"
          ]
        }
      ]
    },
    {
      "cell_type": "markdown",
      "source": [
        "# tokens to embeddings"
      ],
      "metadata": {
        "id": "aUiNu7sd2gGj"
      }
    },
    {
      "cell_type": "code",
      "source": [
        "embedding_layer = torch.nn.Embedding(vocab_size, dim)\n",
        "print(embedding_layer)"
      ],
      "metadata": {
        "colab": {
          "base_uri": "https://localhost:8080/"
        },
        "id": "lzcFiiRc2Pch",
        "outputId": "e7ca0914-ea06-44f0-8be9-7532047070ab"
      },
      "execution_count": 21,
      "outputs": [
        {
          "output_type": "stream",
          "name": "stdout",
          "text": [
            "Embedding(128256, 4096)\n"
          ]
        }
      ]
    }
  ]
}